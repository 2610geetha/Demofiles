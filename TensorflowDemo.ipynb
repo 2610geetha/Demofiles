{
  "nbformat": 4,
  "nbformat_minor": 0,
  "metadata": {
    "colab": {
      "provenance": [],
      "toc_visible": true,
      "authorship_tag": "ABX9TyNln6ZlAwUWviL5BZ/XYiWf",
      "include_colab_link": true
    },
    "kernelspec": {
      "name": "python3",
      "display_name": "Python 3"
    },
    "language_info": {
      "name": "python"
    }
  },
  "cells": [
    {
      "cell_type": "markdown",
      "metadata": {
        "id": "view-in-github",
        "colab_type": "text"
      },
      "source": [
        "<a href=\"https://colab.research.google.com/github/2610geetha/Demofiles/blob/master/TensorflowDemo.ipynb\" target=\"_parent\"><img src=\"https://colab.research.google.com/assets/colab-badge.svg\" alt=\"Open In Colab\"/></a>"
      ]
    },
    {
      "cell_type": "code",
      "execution_count": null,
      "metadata": {
        "id": "pL6dwC4Xop8I"
      },
      "outputs": [],
      "source": []
    },
    {
      "cell_type": "code",
      "source": [
        "import tensorflow as tf\n",
        "import numpy as np\n"
      ],
      "metadata": {
        "id": "cQD4B2wwo0my"
      },
      "execution_count": null,
      "outputs": []
    },
    {
      "cell_type": "code",
      "source": [
        "x= tf.Variable([list(range(15,20))]*5) # 2D tensor of shape (2,2)\n",
        "y=tf.Variable([list(range(5, 10))]*5) # 2D tensor of shape (2,2)\n",
        "\n",
        "print(\"x:\", x)\n",
        "\n",
        "print(\"y:\", y)"
      ],
      "metadata": {
        "colab": {
          "base_uri": "https://localhost:8080/"
        },
        "id": "aabV9fALpGM9",
        "outputId": "e82907df-e7fe-446e-c103-3b67f62626bb"
      },
      "execution_count": null,
      "outputs": [
        {
          "output_type": "stream",
          "name": "stdout",
          "text": [
            "x: <tf.Variable 'Variable:0' shape=(5, 5) dtype=int32, numpy=\n",
            "array([[15, 16, 17, 18, 19],\n",
            "       [15, 16, 17, 18, 19],\n",
            "       [15, 16, 17, 18, 19],\n",
            "       [15, 16, 17, 18, 19],\n",
            "       [15, 16, 17, 18, 19]], dtype=int32)>\n",
            "y: <tf.Variable 'Variable:0' shape=(5, 5) dtype=int32, numpy=\n",
            "array([[5, 6, 7, 8, 9],\n",
            "       [5, 6, 7, 8, 9],\n",
            "       [5, 6, 7, 8, 9],\n",
            "       [5, 6, 7, 8, 9],\n",
            "       [5, 6, 7, 8, 9]], dtype=int32)>\n"
          ]
        }
      ]
    },
    {
      "cell_type": "code",
      "source": [
        "z= x + y\n",
        "print(\"z:\", z) # element wise addition\n",
        "\n",
        "w= x * y\n",
        "print(\"w:\", w)  # element wise multiplication\n",
        "\n",
        "v= x/y\n",
        "print(\"v:\", v)  # element wise division, it supports inifinity and NaN"
      ],
      "metadata": {
        "colab": {
          "base_uri": "https://localhost:8080/"
        },
        "id": "1WCIbFr4r53A",
        "outputId": "cb198e29-aa65-43f9-d465-bb872e07956e"
      },
      "execution_count": null,
      "outputs": [
        {
          "output_type": "stream",
          "name": "stdout",
          "text": [
            "z: tf.Tensor(\n",
            "[[20 22 24 26 28]\n",
            " [20 22 24 26 28]\n",
            " [20 22 24 26 28]\n",
            " [20 22 24 26 28]\n",
            " [20 22 24 26 28]], shape=(5, 5), dtype=int32)\n",
            "w: tf.Tensor(\n",
            "[[ 75  96 119 144 171]\n",
            " [ 75  96 119 144 171]\n",
            " [ 75  96 119 144 171]\n",
            " [ 75  96 119 144 171]\n",
            " [ 75  96 119 144 171]], shape=(5, 5), dtype=int32)\n",
            "v: tf.Tensor(\n",
            "[[3.         2.66666667 2.42857143 2.25       2.11111111]\n",
            " [3.         2.66666667 2.42857143 2.25       2.11111111]\n",
            " [3.         2.66666667 2.42857143 2.25       2.11111111]\n",
            " [3.         2.66666667 2.42857143 2.25       2.11111111]\n",
            " [3.         2.66666667 2.42857143 2.25       2.11111111]], shape=(5, 5), dtype=float64)\n"
          ]
        }
      ]
    },
    {
      "cell_type": "code",
      "source": [
        "print(\"addition:\", tf.add(x,y))"
      ],
      "metadata": {
        "id": "yQlihdRhsTGg",
        "colab": {
          "base_uri": "https://localhost:8080/"
        },
        "outputId": "f816223a-3f11-4437-a079-dbaec3efd096"
      },
      "execution_count": null,
      "outputs": [
        {
          "output_type": "stream",
          "name": "stdout",
          "text": [
            "addition: tf.Tensor(\n",
            "[[20 22 24 26 28]\n",
            " [20 22 24 26 28]\n",
            " [20 22 24 26 28]\n",
            " [20 22 24 26 28]\n",
            " [20 22 24 26 28]], shape=(5, 5), dtype=int32)\n"
          ]
        }
      ]
    },
    {
      "cell_type": "code",
      "source": [
        "print(\"multiplication: \", tf.multiply(x,y))"
      ],
      "metadata": {
        "colab": {
          "base_uri": "https://localhost:8080/"
        },
        "id": "ZzcUjxxluLg_",
        "outputId": "2fa514a3-b40e-4451-a468-c25e29da86b7"
      },
      "execution_count": null,
      "outputs": [
        {
          "output_type": "stream",
          "name": "stdout",
          "text": [
            "multiplication:  tf.Tensor(\n",
            "[[ 75  96 119 144 171]\n",
            " [ 75  96 119 144 171]\n",
            " [ 75  96 119 144 171]\n",
            " [ 75  96 119 144 171]\n",
            " [ 75  96 119 144 171]], shape=(5, 5), dtype=int32)\n"
          ]
        }
      ]
    },
    {
      "cell_type": "code",
      "source": [
        "print(\"division: \", tf.divide(x,y))"
      ],
      "metadata": {
        "colab": {
          "base_uri": "https://localhost:8080/"
        },
        "id": "xubCQd6euW--",
        "outputId": "832c4018-58d2-4f0e-da54-3ccb924f8a20"
      },
      "execution_count": null,
      "outputs": [
        {
          "output_type": "stream",
          "name": "stdout",
          "text": [
            "division:  tf.Tensor(\n",
            "[[3.         2.66666667 2.42857143 2.25       2.11111111]\n",
            " [3.         2.66666667 2.42857143 2.25       2.11111111]\n",
            " [3.         2.66666667 2.42857143 2.25       2.11111111]\n",
            " [3.         2.66666667 2.42857143 2.25       2.11111111]\n",
            " [3.         2.66666667 2.42857143 2.25       2.11111111]], shape=(5, 5), dtype=float64)\n"
          ]
        }
      ]
    },
    {
      "cell_type": "code",
      "source": [
        "tensor1 = tf.random.uniform((2,2), minval= 1, maxval= 20, dtype= tf.int32)\n",
        "print(\"Initial tensor: \", tensor1.numpy())\n",
        "tensor2 = tf.pow(tensor1, 2)\n",
        "print(\"Squared tensor = \", tensor2.numpy())"
      ],
      "metadata": {
        "colab": {
          "base_uri": "https://localhost:8080/"
        },
        "id": "d83DzEttue8P",
        "outputId": "f42d105d-2147-46e2-e85d-da77492267ae"
      },
      "execution_count": null,
      "outputs": [
        {
          "output_type": "stream",
          "name": "stdout",
          "text": [
            "Initial tensor:  [[ 9  1]\n",
            " [ 8 13]]\n",
            "Squared tensor =  [[ 81   1]\n",
            " [ 64 169]]\n"
          ]
        }
      ]
    },
    {
      "cell_type": "code",
      "source": [
        "tensor1 = tf.random.uniform((2,2), minval= 1, maxval= 20)\n",
        "print(\"Initial tensor: \", tensor1.numpy())\n",
        "tensor2 = tf.pow(tensor1, 2)\n",
        "print(\"Squared tensor = \", tensor2.numpy())"
      ],
      "metadata": {
        "colab": {
          "base_uri": "https://localhost:8080/"
        },
        "id": "14dpQS7SupyP",
        "outputId": "50b9b038-5bec-471b-8d2e-92130fa7b813"
      },
      "execution_count": null,
      "outputs": [
        {
          "output_type": "stream",
          "name": "stdout",
          "text": [
            "Initial tensor:  [[ 8.623651 16.721968]\n",
            " [11.641601 18.309574]]\n",
            "Squared tensor =  [[ 74.36735 279.6242 ]\n",
            " [135.52687 335.2405 ]]\n"
          ]
        }
      ]
    },
    {
      "cell_type": "code",
      "source": [
        "tensor1 = tf.random.uniform((2,2), minval= 1, maxval= 20, dtype= tf.int32)\n",
        "print(\"Initial tensor: \", tensor1.numpy())\n",
        "tensor2 = tensor1 * tensor1\n",
        "print(\"Squared tensor = \", tensor2.numpy())"
      ],
      "metadata": {
        "colab": {
          "base_uri": "https://localhost:8080/"
        },
        "id": "OGGwKBOauuRn",
        "outputId": "ff355907-22b3-45eb-aa4e-5305a7fd1989"
      },
      "execution_count": null,
      "outputs": [
        {
          "output_type": "stream",
          "name": "stdout",
          "text": [
            "Initial tensor:  [[13 17]\n",
            " [10  8]]\n",
            "Squared tensor =  [[169 289]\n",
            " [100  64]]\n"
          ]
        }
      ]
    },
    {
      "cell_type": "code",
      "source": [
        "\n",
        "tensor1 = tf.random.uniform((2,2), minval= 1, maxval= 20, dtype= tf.int32)\n",
        "print(\"Initial tensor: \", tensor1.numpy())\n",
        "tensor2 = tf.multiply( tensor1 , tensor1)\n",
        "print(\"Squared tensor = \", tensor2.numpy())"
      ],
      "metadata": {
        "colab": {
          "base_uri": "https://localhost:8080/"
        },
        "id": "m0DfmgDXu2Qv",
        "outputId": "63bcafd5-8df9-4df5-a64b-7216bc8d7bed"
      },
      "execution_count": null,
      "outputs": [
        {
          "output_type": "stream",
          "name": "stdout",
          "text": [
            "Initial tensor:  [[ 5 15]\n",
            " [ 5  4]]\n",
            "Squared tensor =  [[ 25 225]\n",
            " [ 25  16]]\n"
          ]
        }
      ]
    },
    {
      "cell_type": "code",
      "source": [
        "t1 = tf.Variable([[2,3,4], [5,7,9], [1,6,3], [5,8,4]])\n",
        "t2 = tf.Variable([[2,3,4,5], [5,7,9,4], [1,6,3,9]])\n",
        "\n",
        "t3 = t1 + t2"
      ],
      "metadata": {
        "colab": {
          "base_uri": "https://localhost:8080/",
          "height": 321
        },
        "id": "ncAYJoZhu8bP",
        "outputId": "b0a35aef-d255-4f33-e4a5-5a8ea7752ad9"
      },
      "execution_count": null,
      "outputs": [
        {
          "output_type": "error",
          "ename": "InvalidArgumentError",
          "evalue": "{{function_node __wrapped__AddV2_device_/job:localhost/replica:0/task:0/device:CPU:0}} Incompatible shapes: [4,3] vs. [3,4] [Op:AddV2] name: ",
          "traceback": [
            "\u001b[0;31m---------------------------------------------------------------------------\u001b[0m",
            "\u001b[0;31mInvalidArgumentError\u001b[0m                      Traceback (most recent call last)",
            "\u001b[0;32m<ipython-input-18-e92787af040d>\u001b[0m in \u001b[0;36m<cell line: 4>\u001b[0;34m()\u001b[0m\n\u001b[1;32m      2\u001b[0m \u001b[0mt2\u001b[0m \u001b[0;34m=\u001b[0m \u001b[0mtf\u001b[0m\u001b[0;34m.\u001b[0m\u001b[0mVariable\u001b[0m\u001b[0;34m(\u001b[0m\u001b[0;34m[\u001b[0m\u001b[0;34m[\u001b[0m\u001b[0;36m2\u001b[0m\u001b[0;34m,\u001b[0m\u001b[0;36m3\u001b[0m\u001b[0;34m,\u001b[0m\u001b[0;36m4\u001b[0m\u001b[0;34m,\u001b[0m\u001b[0;36m5\u001b[0m\u001b[0;34m]\u001b[0m\u001b[0;34m,\u001b[0m \u001b[0;34m[\u001b[0m\u001b[0;36m5\u001b[0m\u001b[0;34m,\u001b[0m\u001b[0;36m7\u001b[0m\u001b[0;34m,\u001b[0m\u001b[0;36m9\u001b[0m\u001b[0;34m,\u001b[0m\u001b[0;36m4\u001b[0m\u001b[0;34m]\u001b[0m\u001b[0;34m,\u001b[0m \u001b[0;34m[\u001b[0m\u001b[0;36m1\u001b[0m\u001b[0;34m,\u001b[0m\u001b[0;36m6\u001b[0m\u001b[0;34m,\u001b[0m\u001b[0;36m3\u001b[0m\u001b[0;34m,\u001b[0m\u001b[0;36m9\u001b[0m\u001b[0;34m]\u001b[0m\u001b[0;34m]\u001b[0m\u001b[0;34m)\u001b[0m\u001b[0;34m\u001b[0m\u001b[0;34m\u001b[0m\u001b[0m\n\u001b[1;32m      3\u001b[0m \u001b[0;34m\u001b[0m\u001b[0m\n\u001b[0;32m----> 4\u001b[0;31m \u001b[0mt3\u001b[0m \u001b[0;34m=\u001b[0m \u001b[0mt1\u001b[0m \u001b[0;34m+\u001b[0m \u001b[0mt2\u001b[0m\u001b[0;34m\u001b[0m\u001b[0;34m\u001b[0m\u001b[0m\n\u001b[0m",
            "\u001b[0;32m/usr/local/lib/python3.10/dist-packages/tensorflow/python/ops/variables.py\u001b[0m in \u001b[0;36m_run_op\u001b[0;34m(a, *args, **kwargs)\u001b[0m\n\u001b[1;32m   1011\u001b[0m     \u001b[0;32mdef\u001b[0m \u001b[0m_run_op\u001b[0m\u001b[0;34m(\u001b[0m\u001b[0ma\u001b[0m\u001b[0;34m,\u001b[0m \u001b[0;34m*\u001b[0m\u001b[0margs\u001b[0m\u001b[0;34m,\u001b[0m \u001b[0;34m**\u001b[0m\u001b[0mkwargs\u001b[0m\u001b[0;34m)\u001b[0m\u001b[0;34m:\u001b[0m\u001b[0;34m\u001b[0m\u001b[0;34m\u001b[0m\u001b[0m\n\u001b[1;32m   1012\u001b[0m       \u001b[0;31m# pylint: disable=protected-access\u001b[0m\u001b[0;34m\u001b[0m\u001b[0;34m\u001b[0m\u001b[0m\n\u001b[0;32m-> 1013\u001b[0;31m       \u001b[0;32mreturn\u001b[0m \u001b[0mtensor_oper\u001b[0m\u001b[0;34m(\u001b[0m\u001b[0ma\u001b[0m\u001b[0;34m.\u001b[0m\u001b[0mvalue\u001b[0m\u001b[0;34m(\u001b[0m\u001b[0;34m)\u001b[0m\u001b[0;34m,\u001b[0m \u001b[0;34m*\u001b[0m\u001b[0margs\u001b[0m\u001b[0;34m,\u001b[0m \u001b[0;34m**\u001b[0m\u001b[0mkwargs\u001b[0m\u001b[0;34m)\u001b[0m\u001b[0;34m\u001b[0m\u001b[0;34m\u001b[0m\u001b[0m\n\u001b[0m\u001b[1;32m   1014\u001b[0m \u001b[0;34m\u001b[0m\u001b[0m\n\u001b[1;32m   1015\u001b[0m     \u001b[0mfunctools\u001b[0m\u001b[0;34m.\u001b[0m\u001b[0mupdate_wrapper\u001b[0m\u001b[0;34m(\u001b[0m\u001b[0m_run_op\u001b[0m\u001b[0;34m,\u001b[0m \u001b[0mtensor_oper\u001b[0m\u001b[0;34m)\u001b[0m\u001b[0;34m\u001b[0m\u001b[0;34m\u001b[0m\u001b[0m\n",
            "\u001b[0;32m/usr/local/lib/python3.10/dist-packages/tensorflow/python/util/traceback_utils.py\u001b[0m in \u001b[0;36merror_handler\u001b[0;34m(*args, **kwargs)\u001b[0m\n\u001b[1;32m    151\u001b[0m     \u001b[0;32mexcept\u001b[0m \u001b[0mException\u001b[0m \u001b[0;32mas\u001b[0m \u001b[0me\u001b[0m\u001b[0;34m:\u001b[0m\u001b[0;34m\u001b[0m\u001b[0;34m\u001b[0m\u001b[0m\n\u001b[1;32m    152\u001b[0m       \u001b[0mfiltered_tb\u001b[0m \u001b[0;34m=\u001b[0m \u001b[0m_process_traceback_frames\u001b[0m\u001b[0;34m(\u001b[0m\u001b[0me\u001b[0m\u001b[0;34m.\u001b[0m\u001b[0m__traceback__\u001b[0m\u001b[0;34m)\u001b[0m\u001b[0;34m\u001b[0m\u001b[0;34m\u001b[0m\u001b[0m\n\u001b[0;32m--> 153\u001b[0;31m       \u001b[0;32mraise\u001b[0m \u001b[0me\u001b[0m\u001b[0;34m.\u001b[0m\u001b[0mwith_traceback\u001b[0m\u001b[0;34m(\u001b[0m\u001b[0mfiltered_tb\u001b[0m\u001b[0;34m)\u001b[0m \u001b[0;32mfrom\u001b[0m \u001b[0;32mNone\u001b[0m\u001b[0;34m\u001b[0m\u001b[0;34m\u001b[0m\u001b[0m\n\u001b[0m\u001b[1;32m    154\u001b[0m     \u001b[0;32mfinally\u001b[0m\u001b[0;34m:\u001b[0m\u001b[0;34m\u001b[0m\u001b[0;34m\u001b[0m\u001b[0m\n\u001b[1;32m    155\u001b[0m       \u001b[0;32mdel\u001b[0m \u001b[0mfiltered_tb\u001b[0m\u001b[0;34m\u001b[0m\u001b[0;34m\u001b[0m\u001b[0m\n",
            "\u001b[0;32m/usr/local/lib/python3.10/dist-packages/tensorflow/python/framework/ops.py\u001b[0m in \u001b[0;36mraise_from_not_ok_status\u001b[0;34m(e, name)\u001b[0m\n\u001b[1;32m   5881\u001b[0m \u001b[0;32mdef\u001b[0m \u001b[0mraise_from_not_ok_status\u001b[0m\u001b[0;34m(\u001b[0m\u001b[0me\u001b[0m\u001b[0;34m,\u001b[0m \u001b[0mname\u001b[0m\u001b[0;34m)\u001b[0m \u001b[0;34m->\u001b[0m \u001b[0mNoReturn\u001b[0m\u001b[0;34m:\u001b[0m\u001b[0;34m\u001b[0m\u001b[0;34m\u001b[0m\u001b[0m\n\u001b[1;32m   5882\u001b[0m   \u001b[0me\u001b[0m\u001b[0;34m.\u001b[0m\u001b[0mmessage\u001b[0m \u001b[0;34m+=\u001b[0m \u001b[0;34m(\u001b[0m\u001b[0;34m\" name: \"\u001b[0m \u001b[0;34m+\u001b[0m \u001b[0mstr\u001b[0m\u001b[0;34m(\u001b[0m\u001b[0mname\u001b[0m \u001b[0;32mif\u001b[0m \u001b[0mname\u001b[0m \u001b[0;32mis\u001b[0m \u001b[0;32mnot\u001b[0m \u001b[0;32mNone\u001b[0m \u001b[0;32melse\u001b[0m \u001b[0;34m\"\"\u001b[0m\u001b[0;34m)\u001b[0m\u001b[0;34m)\u001b[0m\u001b[0;34m\u001b[0m\u001b[0;34m\u001b[0m\u001b[0m\n\u001b[0;32m-> 5883\u001b[0;31m   \u001b[0;32mraise\u001b[0m \u001b[0mcore\u001b[0m\u001b[0;34m.\u001b[0m\u001b[0m_status_to_exception\u001b[0m\u001b[0;34m(\u001b[0m\u001b[0me\u001b[0m\u001b[0;34m)\u001b[0m \u001b[0;32mfrom\u001b[0m \u001b[0;32mNone\u001b[0m  \u001b[0;31m# pylint: disable=protected-access\u001b[0m\u001b[0;34m\u001b[0m\u001b[0;34m\u001b[0m\u001b[0m\n\u001b[0m\u001b[1;32m   5884\u001b[0m \u001b[0;34m\u001b[0m\u001b[0m\n\u001b[1;32m   5885\u001b[0m \u001b[0;34m\u001b[0m\u001b[0m\n",
            "\u001b[0;31mInvalidArgumentError\u001b[0m: {{function_node __wrapped__AddV2_device_/job:localhost/replica:0/task:0/device:CPU:0}} Incompatible shapes: [4,3] vs. [3,4] [Op:AddV2] name: "
          ]
        }
      ]
    },
    {
      "cell_type": "code",
      "source": [
        "var1 = tf.Variable([[0,1,2,3,4],[5,6,7,8,9],[10,11,12,13,14],[15,16,17,18,19],[20,21,22,23,24]])\n",
        "var2 = tf.Variable([[0,1,2],[3,4,5],[6,7,8],[9,10,11],[12,13,14]])\n",
        "op1 = tf.linalg.matmul(var1,var2)\n",
        "print(\"matrix maultiplication :\", op1)"
      ],
      "metadata": {
        "colab": {
          "base_uri": "https://localhost:8080/"
        },
        "id": "UJ4qhfOFvgYH",
        "outputId": "9673c859-37f7-49a8-9474-923b1d8b34b2"
      },
      "execution_count": null,
      "outputs": [
        {
          "output_type": "stream",
          "name": "stdout",
          "text": [
            "matrix maultiplication : tf.Tensor(\n",
            "[[ 90 100 110]\n",
            " [240 275 310]\n",
            " [390 450 510]\n",
            " [540 625 710]\n",
            " [690 800 910]], shape=(5, 3), dtype=int32)\n"
          ]
        }
      ]
    },
    {
      "cell_type": "code",
      "source": [
        "#Matrix inverse\n",
        "try:\n",
        "  x = tf.Variable([[2,3],[3,3]])\n",
        "  xinv = tf.linalg.inv(x)\n",
        "  print(\"inverse of x:\", xinv)\n",
        "except Exception as e:\n",
        "  print(\"exception occured:\", str(e))"
      ],
      "metadata": {
        "colab": {
          "base_uri": "https://localhost:8080/"
        },
        "id": "awq2n5xizKI_",
        "outputId": "e769b34f-fc76-409e-9404-460bf86d23f5"
      },
      "execution_count": null,
      "outputs": [
        {
          "output_type": "stream",
          "name": "stdout",
          "text": [
            "exception occured: Value for attr 'T' of int32 is not in the list of allowed values: double, float, half, complex64, complex128\n",
            "\t; NodeDef: {{node MatrixInverse}}; Op<name=MatrixInverse; signature=input:T -> output:T; attr=adjoint:bool,default=false; attr=T:type,allowed=[DT_DOUBLE, DT_FLOAT, DT_HALF, DT_COMPLEX64, DT_COMPLEX128]> [Op:MatrixInverse] name: \n"
          ]
        }
      ]
    },
    {
      "cell_type": "code",
      "source": [
        "x=tf.cast(x,tf.float32)\n",
        "xinv = tf.linalg.inv(x)\n",
        "print(\"inverse of x:\", xinv)"
      ],
      "metadata": {
        "colab": {
          "base_uri": "https://localhost:8080/"
        },
        "id": "x_ktrXkWz3Xu",
        "outputId": "963dbb20-a06e-4c66-c020-2c7665c53120"
      },
      "execution_count": null,
      "outputs": [
        {
          "output_type": "stream",
          "name": "stdout",
          "text": [
            "inverse of x: tf.Tensor(\n",
            "[[-1.         1.       ]\n",
            " [ 1.        -0.6666667]], shape=(2, 2), dtype=float32)\n"
          ]
        }
      ]
    },
    {
      "cell_type": "code",
      "source": [
        "coeff = tf.Variable([[1,1,1,1],[2,3,0,-1],[-3,4,1,2],[1,2,-1,1]],dtype=tf.float32)\n",
        "coeff"
      ],
      "metadata": {
        "colab": {
          "base_uri": "https://localhost:8080/"
        },
        "id": "_MoTAOQ90cjv",
        "outputId": "2e6d2a68-7968-4309-f4d2-17996144c7c5"
      },
      "execution_count": null,
      "outputs": [
        {
          "output_type": "execute_result",
          "data": {
            "text/plain": [
              "<tf.Variable 'Variable:0' shape=(4, 4) dtype=float32, numpy=\n",
              "array([[ 1.,  1.,  1.,  1.],\n",
              "       [ 2.,  3.,  0., -1.],\n",
              "       [-3.,  4.,  1.,  2.],\n",
              "       [ 1.,  2., -1.,  1.]], dtype=float32)>"
            ]
          },
          "metadata": {},
          "execution_count": 27
        }
      ]
    },
    {
      "cell_type": "code",
      "source": [
        "y = tf.Variable([[13],[-1],[10],[1]],dtype=tf.float32)\n",
        "y"
      ],
      "metadata": {
        "colab": {
          "base_uri": "https://localhost:8080/"
        },
        "id": "a3M_NPMh1m0H",
        "outputId": "ce05a56c-3f7f-430b-d179-bea8024505c8"
      },
      "execution_count": null,
      "outputs": [
        {
          "output_type": "execute_result",
          "data": {
            "text/plain": [
              "<tf.Variable 'Variable:0' shape=(4, 1) dtype=float32, numpy=\n",
              "array([[13.],\n",
              "       [-1.],\n",
              "       [10.],\n",
              "       [ 1.]], dtype=float32)>"
            ]
          },
          "metadata": {},
          "execution_count": 29
        }
      ]
    },
    {
      "cell_type": "code",
      "source": [
        "inv_coeff = tf.linalg.inv(coeff)\n",
        "inv_coeff"
      ],
      "metadata": {
        "colab": {
          "base_uri": "https://localhost:8080/"
        },
        "id": "K55DfiLB142G",
        "outputId": "dd51c0c7-ec3e-4f27-db6a-a4fa45a3c6b1"
      },
      "execution_count": null,
      "outputs": [
        {
          "output_type": "execute_result",
          "data": {
            "text/plain": [
              "<tf.Tensor: shape=(4, 4), dtype=float32, numpy=\n",
              "array([[ 2.77777791e-01,  5.55555224e-02, -1.66666672e-01,\n",
              "         1.11111104e-01],\n",
              "       [-7.40740746e-02,  1.85185164e-01,  1.11111104e-01,\n",
              "         3.70370336e-02],\n",
              "       [ 4.62962925e-01,  9.25926119e-02,  5.55555634e-02,\n",
              "        -4.81481493e-01],\n",
              "       [ 3.33333343e-01, -3.33333343e-01, -9.93410776e-09,\n",
              "         3.33333343e-01]], dtype=float32)>"
            ]
          },
          "metadata": {},
          "execution_count": 30
        }
      ]
    },
    {
      "cell_type": "code",
      "source": [
        "print(\"solution : \", tf.matmul(inv_coeff,y))"
      ],
      "metadata": {
        "colab": {
          "base_uri": "https://localhost:8080/"
        },
        "id": "hueZ5_vT2Yhd",
        "outputId": "fdc6bebe-e2ec-4898-97d3-f8c56671aef5"
      },
      "execution_count": null,
      "outputs": [
        {
          "output_type": "stream",
          "name": "stdout",
          "text": [
            "solution :  tf.Tensor(\n",
            "[[ 2.0000000e+00]\n",
            " [-1.0058284e-07]\n",
            " [ 5.9999995e+00]\n",
            " [ 5.0000005e+00]], shape=(4, 1), dtype=float32)\n"
          ]
        }
      ]
    },
    {
      "cell_type": "code",
      "source": [
        "w=tf.Variable([[0.5,1,-1.2]],dtype=tf.float32)\n",
        "#w=tf.Variable([[0.5,1]],dtype=tf.float32)\n",
        "print(\"w: \",w)\n",
        "\n",
        "x = tf.Variable([[0.2],[1],[0.5]])\n",
        "print(\"x: \",x)\n",
        "\n",
        "b= tf.Variable([0.01])\n",
        "print(\"b: \",b)\n",
        "\n"
      ],
      "metadata": {
        "colab": {
          "base_uri": "https://localhost:8080/"
        },
        "id": "Hg4cmd942lc9",
        "outputId": "b9818ad7-8857-44f7-c02b-6608760e0202"
      },
      "execution_count": null,
      "outputs": [
        {
          "output_type": "stream",
          "name": "stdout",
          "text": [
            "w:  <tf.Variable 'Variable:0' shape=(1, 3) dtype=float32, numpy=array([[ 0.5,  1. , -1.2]], dtype=float32)>\n",
            "x:  <tf.Variable 'Variable:0' shape=(3, 1) dtype=float32, numpy=\n",
            "array([[0.2],\n",
            "       [1. ],\n",
            "       [0.5]], dtype=float32)>\n",
            "b:  <tf.Variable 'Variable:0' shape=(1,) dtype=float32, numpy=array([0.01], dtype=float32)>\n"
          ]
        }
      ]
    },
    {
      "cell_type": "code",
      "source": [
        "try:\n",
        "  y= tf.linalg.matmul(w,x)\n",
        "  print(\"y:\", y)\n",
        "except Exception as e:\n",
        "  print(\"exception occured\", str(e))\n"
      ],
      "metadata": {
        "colab": {
          "base_uri": "https://localhost:8080/"
        },
        "id": "ejNiWEz74vXE",
        "outputId": "75acab5c-c69e-49f4-fd43-45d14cfb53d1"
      },
      "execution_count": null,
      "outputs": [
        {
          "output_type": "stream",
          "name": "stdout",
          "text": [
            "y: tf.Tensor([[0.5]], shape=(1, 1), dtype=float32)\n"
          ]
        }
      ]
    },
    {
      "cell_type": "code",
      "source": [
        "print(\"Solution :\", tf.sigmoid(tf.add(y,b)))"
      ],
      "metadata": {
        "colab": {
          "base_uri": "https://localhost:8080/"
        },
        "id": "O4tu2oN65gNN",
        "outputId": "f362fc73-ae8b-4ea7-da5d-6e183edd23a5"
      },
      "execution_count": null,
      "outputs": [
        {
          "output_type": "stream",
          "name": "stdout",
          "text": [
            "Solution : tf.Tensor([[0.62480646]], shape=(1, 1), dtype=float32)\n"
          ]
        }
      ]
    },
    {
      "cell_type": "code",
      "source": [
        "x = tf.Variable([[0.2, 1, 0.5]])\n",
        "\n",
        "w = tf.Variable([[0.5], [1] , [-1.2]])\n",
        "\n",
        "b = tf.Variable([[0.01]])\n",
        "\n",
        "\n",
        "\n",
        "a = tf.add(tf.matmul(x,w), b)\n",
        "\n",
        "\n",
        "\n",
        "p = tf.sigmoid(a)\n",
        "\n",
        "print(p.numpy()[0][0])"
      ],
      "metadata": {
        "colab": {
          "base_uri": "https://localhost:8080/"
        },
        "id": "YoBK8US76C29",
        "outputId": "e71fc845-dd11-4458-c92e-24c73d6daffd"
      },
      "execution_count": null,
      "outputs": [
        {
          "output_type": "stream",
          "name": "stdout",
          "text": [
            "0.62480646\n"
          ]
        }
      ]
    },
    {
      "cell_type": "code",
      "source": [],
      "metadata": {
        "id": "x5CBPdHu8nsl"
      },
      "execution_count": null,
      "outputs": []
    }
  ]
}